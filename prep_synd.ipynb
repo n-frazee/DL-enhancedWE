{
 "cells": [
  {
   "cell_type": "markdown",
   "metadata": {},
   "source": [
    "# Preparing the SynD model for use with DDWE\n",
    "\n",
    "This notebook creates two .pkl objects that are necessary for the SynD augmentation driver to execute.\n",
    "\n",
    "    coord_map.pkl - stores the CA coordinates from the SynD backmapper\n",
    "    dmatrix_map.pkl - stores the contact matrices made from the CA coordinates"
   ]
  },
  {
   "cell_type": "code",
   "execution_count": 16,
   "metadata": {},
   "outputs": [
    {
     "name": "stdout",
     "output_type": "stream",
     "text": [
      "7500\n",
      "[[ 5.794442    7.0719385  -1.1330283 ]\n",
      " [ 2.7251964   6.452179   -3.460008  ]\n",
      " [ 1.7702633   2.8054106  -3.9082246 ]\n",
      " [-1.279129    1.0961723  -5.6182203 ]\n",
      " [-3.2347846  -0.69405556 -2.720595  ]\n",
      " [-4.5526643  -3.9538097  -4.1994042 ]\n",
      " [-6.2812753  -4.8713436  -0.8433205 ]\n",
      " [-8.449716   -2.8141737   1.6090035 ]\n",
      " [-6.03672    -2.361517    4.507228  ]\n",
      " [-7.8532534  -0.9261215   7.655863  ]\n",
      " [-7.7127495   2.9070485   8.079539  ]\n",
      " [-4.8830757   3.31576     5.475683  ]\n",
      " [-5.8576684   2.1401048   1.9326985 ]\n",
      " [-8.747178    0.5899501  -0.1114589 ]\n",
      " [-8.483984   -1.8965042  -2.9284918 ]\n",
      " [-7.709418   -0.48977733 -6.3845205 ]\n",
      " [-6.5020514   2.8697467  -5.1467376 ]\n",
      " [-3.4583712   5.0051093  -5.580784  ]\n",
      " [-2.4120896   6.5939927  -2.204479  ]\n",
      " [ 0.7493144   8.098385   -0.571025  ]\n",
      " [ 1.7565638   6.2378263   2.540617  ]\n",
      " [ 5.127475    6.1982393   4.370301  ]\n",
      " [ 8.137191    4.115088    2.9583168 ]\n",
      " [ 8.533524    1.8432343   5.9702754 ]\n",
      " [ 4.8683414   0.7899165   5.4642496 ]\n",
      " [ 5.2933283   0.59303164  1.5881407 ]\n",
      " [ 8.542191   -1.5559196   1.6380191 ]\n",
      " [ 8.61898    -3.456136    4.9284315 ]\n",
      " [ 4.8541617  -4.3340106   5.086726  ]\n",
      " [ 2.7389157  -3.696717    2.1298897 ]\n",
      " [ 4.7840075  -5.22544    -0.8503139 ]\n",
      " [ 5.841784   -8.108486    1.3681054 ]\n",
      " [ 2.3394303  -9.3220415   2.1472192 ]\n",
      " [ 1.2419182  -8.260397   -1.4447188 ]\n",
      " [-1.2262982  -5.597858   -0.2678895 ]\n",
      " [ 0.05715072 -2.8266728  -2.6041608 ]\n",
      " [ 2.4638553  -2.3006237  -5.4614644 ]\n",
      " [ 4.982753    0.7075751  -5.788958  ]\n",
      " [ 3.4596376   3.2608736  -8.2225    ]]\n"
     ]
    }
   ],
   "source": [
    "import pickle\n",
    "from synd.core import load_model\n",
    "\n",
    "base_dir = '200ps_stuff/'\n",
    "\n",
    "# Load the model\n",
    "model = load_model(base_dir + 'ntl9_folding_deshaw_vamp_200ps_1stride_lag1_7500states_full.synd')\n",
    "\n",
    "# Get the mapping from state to coordinates\n",
    "map_coord = {i: model.backmap([i], 'ca_coordinates')[0] for i in range(7500)}\n",
    "\n",
    "print(len(map_coord))\n",
    "print(map_coord[0])\n",
    "\n",
    "# Save the mapping\n",
    "with open(base_dir + 'coord_map.pkl', 'wb') as f:\n",
    "    pickle.dump(map_coord, f)\n"
   ]
  },
  {
   "cell_type": "code",
   "execution_count": 17,
   "metadata": {},
   "outputs": [
    {
     "name": "stdout",
     "output_type": "stream",
     "text": [
      "7500\n",
      "[[ True  True  True ... False  True False]\n",
      " [ True  True  True ... False  True  True]\n",
      " [ True  True  True ...  True  True  True]\n",
      " ...\n",
      " [False False  True ...  True  True  True]\n",
      " [ True  True  True ...  True  True  True]\n",
      " [False  True  True ...  True  True  True]]\n"
     ]
    }
   ],
   "source": [
    "from scipy.spatial import distance_matrix\n",
    "import numpy as np\n",
    "\n",
    "distance_matrices = [distance_matrix(map_coord[i], map_coord[i]) for i in range(7500)]\n",
    "contact_maps = np.array(distance_matrices) < 8.0\n",
    "\n",
    "dmatrix_map = {i: contact_maps[i] for i in range(7500)}\n",
    "\n",
    "print(len(dmatrix_map))\n",
    "print(dmatrix_map[0])\n",
    "\n",
    "with open(base_dir + 'dmatrix_map.pkl', 'wb') as file:\n",
    "    pickle.dump(dmatrix_map, file)"
   ]
  }
 ],
 "metadata": {
  "kernelspec": {
   "display_name": "pytorch_gpu",
   "language": "python",
   "name": "python3"
  },
  "language_info": {
   "codemirror_mode": {
    "name": "ipython",
    "version": 3
   },
   "file_extension": ".py",
   "mimetype": "text/x-python",
   "name": "python",
   "nbconvert_exporter": "python",
   "pygments_lexer": "ipython3",
   "version": "3.9.18"
  }
 },
 "nbformat": 4,
 "nbformat_minor": 2
}
